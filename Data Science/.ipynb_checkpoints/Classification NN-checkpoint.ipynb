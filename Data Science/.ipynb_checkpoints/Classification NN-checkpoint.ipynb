{
 "cells": [
  {
   "cell_type": "code",
   "execution_count": 1,
   "id": "559a6cec",
   "metadata": {},
   "outputs": [],
   "source": [
    "import numpy as np\n",
    "import pandas as pd\n",
    "import tensorflow as tf\n",
    "import matplotlib.pyplot as plt\n",
    "from sklearn.metrics import confusion_matrix\n",
    "from sklearn.model_selection import train_test_split\n",
    "from sklearn.preprocessing import StandardScaler, MinMaxScaler, LabelEncoder\n",
    "from keras.losses import CategoricalCrossentropy\n",
    "from keras.models import Sequential\n",
    "from keras.optimizers import Adam\n",
    "from keras.layers import Dense\n",
    "from keras.utils import to_categorical\n",
    "%matplotlib inline\n",
    "\n",
    "df = pd.read_csv(\"../Data Science/Kaggle_Data/IRIS.csv\")"
   ]
  },
  {
   "cell_type": "code",
   "execution_count": 2,
   "id": "1671228d",
   "metadata": {},
   "outputs": [
    {
     "data": {
      "text/html": [
       "<div>\n",
       "<style scoped>\n",
       "    .dataframe tbody tr th:only-of-type {\n",
       "        vertical-align: middle;\n",
       "    }\n",
       "\n",
       "    .dataframe tbody tr th {\n",
       "        vertical-align: top;\n",
       "    }\n",
       "\n",
       "    .dataframe thead th {\n",
       "        text-align: right;\n",
       "    }\n",
       "</style>\n",
       "<table border=\"1\" class=\"dataframe\">\n",
       "  <thead>\n",
       "    <tr style=\"text-align: right;\">\n",
       "      <th></th>\n",
       "      <th>sepal_length</th>\n",
       "      <th>sepal_width</th>\n",
       "      <th>petal_length</th>\n",
       "      <th>petal_width</th>\n",
       "      <th>species</th>\n",
       "    </tr>\n",
       "  </thead>\n",
       "  <tbody>\n",
       "    <tr>\n",
       "      <th>0</th>\n",
       "      <td>5.1</td>\n",
       "      <td>3.5</td>\n",
       "      <td>1.4</td>\n",
       "      <td>0.2</td>\n",
       "      <td>Iris-setosa</td>\n",
       "    </tr>\n",
       "    <tr>\n",
       "      <th>1</th>\n",
       "      <td>4.9</td>\n",
       "      <td>3.0</td>\n",
       "      <td>1.4</td>\n",
       "      <td>0.2</td>\n",
       "      <td>Iris-setosa</td>\n",
       "    </tr>\n",
       "    <tr>\n",
       "      <th>2</th>\n",
       "      <td>4.7</td>\n",
       "      <td>3.2</td>\n",
       "      <td>1.3</td>\n",
       "      <td>0.2</td>\n",
       "      <td>Iris-setosa</td>\n",
       "    </tr>\n",
       "    <tr>\n",
       "      <th>3</th>\n",
       "      <td>4.6</td>\n",
       "      <td>3.1</td>\n",
       "      <td>1.5</td>\n",
       "      <td>0.2</td>\n",
       "      <td>Iris-setosa</td>\n",
       "    </tr>\n",
       "    <tr>\n",
       "      <th>4</th>\n",
       "      <td>5.0</td>\n",
       "      <td>3.6</td>\n",
       "      <td>1.4</td>\n",
       "      <td>0.2</td>\n",
       "      <td>Iris-setosa</td>\n",
       "    </tr>\n",
       "  </tbody>\n",
       "</table>\n",
       "</div>"
      ],
      "text/plain": [
       "   sepal_length  sepal_width  petal_length  petal_width      species\n",
       "0           5.1          3.5           1.4          0.2  Iris-setosa\n",
       "1           4.9          3.0           1.4          0.2  Iris-setosa\n",
       "2           4.7          3.2           1.3          0.2  Iris-setosa\n",
       "3           4.6          3.1           1.5          0.2  Iris-setosa\n",
       "4           5.0          3.6           1.4          0.2  Iris-setosa"
      ]
     },
     "execution_count": 2,
     "metadata": {},
     "output_type": "execute_result"
    }
   ],
   "source": [
    "df.head()"
   ]
  },
  {
   "cell_type": "code",
   "execution_count": 3,
   "id": "df63d3f8",
   "metadata": {},
   "outputs": [
    {
     "name": "stdout",
     "output_type": "stream",
     "text": [
      "<class 'pandas.core.frame.DataFrame'>\n",
      "RangeIndex: 150 entries, 0 to 149\n",
      "Data columns (total 5 columns):\n",
      " #   Column        Non-Null Count  Dtype  \n",
      "---  ------        --------------  -----  \n",
      " 0   sepal_length  150 non-null    float64\n",
      " 1   sepal_width   150 non-null    float64\n",
      " 2   petal_length  150 non-null    float64\n",
      " 3   petal_width   150 non-null    float64\n",
      " 4   species       150 non-null    object \n",
      "dtypes: float64(4), object(1)\n",
      "memory usage: 6.0+ KB\n"
     ]
    }
   ],
   "source": [
    "df.info()"
   ]
  },
  {
   "cell_type": "code",
   "execution_count": 4,
   "id": "6588c579",
   "metadata": {},
   "outputs": [],
   "source": [
    "features = ['sepal_length', 'sepal_width', 'petal_length', 'petal_width']\n",
    "X = df[features]\n",
    "Y = df['species']"
   ]
  },
  {
   "cell_type": "code",
   "execution_count": 5,
   "id": "7f8fd389",
   "metadata": {},
   "outputs": [
    {
     "name": "stdout",
     "output_type": "stream",
     "text": [
      "(84, 4) (84, 3)\n",
      "(28, 4) (28, 3)\n",
      "(38, 4) (38, 3)\n"
     ]
    }
   ],
   "source": [
    "x_train_, x_test, y_train_, y_test = train_test_split(X, Y, test_size=0.25, shuffle=True)\n",
    "x_train, x_cv, y_train, y_cv = train_test_split(x_train_, y_train_, test_size=0.25, shuffle=True)\n",
    "\n",
    "scaler = MinMaxScaler()\n",
    "x_train = scaler.fit_transform(x_train)\n",
    "x_cv = scaler.transform(x_cv)\n",
    "x_test = scaler.transform(x_test)\n",
    "\n",
    "label_encoder = LabelEncoder()\n",
    "y_train_enc = label_encoder.fit_transform(y_train)\n",
    "y_train_enc = to_categorical(y_train_enc, 3)\n",
    "y_cv_enc = label_encoder.transform(y_cv)\n",
    "y_cv_enc = to_categorical(y_cv_enc, 3)\n",
    "y_test_lab = label_encoder.transform(y_test)\n",
    "y_test_enc = to_categorical(y_test_lab, 3)\n",
    "\n",
    "print(x_train.shape, y_train_enc.shape)\n",
    "print(x_cv.shape, y_cv_enc.shape)\n",
    "print(x_test.shape, y_test_enc.shape)"
   ]
  },
  {
   "cell_type": "code",
   "execution_count": 37,
   "id": "cab24c8e",
   "metadata": {},
   "outputs": [],
   "source": [
    "tf.random.set_seed(420)\n",
    "\n",
    "model = Sequential([\n",
    "    Dense(60, activation='relu'),\n",
    "    Dense(120, activation='relu'),\n",
    "    Dense(60, activation='relu'),\n",
    "    Dense(3, activation='softmax')\n",
    "])"
   ]
  },
  {
   "cell_type": "code",
   "execution_count": 38,
   "id": "8acbb25d",
   "metadata": {},
   "outputs": [],
   "source": [
    "model.compile(\n",
    "    loss = tf.keras.losses.categorical_crossentropy,\n",
    "    optimizer = Adam(0.001)\n",
    ")"
   ]
  },
  {
   "cell_type": "code",
   "execution_count": 39,
   "id": "2af915bf",
   "metadata": {},
   "outputs": [
    {
     "name": "stdout",
     "output_type": "stream",
     "text": [
      "Epoch 1/30\n",
      "3/3 [==============================] - 1s 54ms/step - loss: 1.0769 - val_loss: 1.0578\n",
      "Epoch 2/30\n",
      "3/3 [==============================] - 0s 12ms/step - loss: 1.0409 - val_loss: 1.0379\n",
      "Epoch 3/30\n",
      "3/3 [==============================] - 0s 11ms/step - loss: 1.0082 - val_loss: 1.0157\n",
      "Epoch 4/30\n",
      "3/3 [==============================] - 0s 12ms/step - loss: 0.9799 - val_loss: 0.9914\n",
      "Epoch 5/30\n",
      "3/3 [==============================] - 0s 13ms/step - loss: 0.9496 - val_loss: 0.9637\n",
      "Epoch 6/30\n",
      "3/3 [==============================] - 0s 11ms/step - loss: 0.9186 - val_loss: 0.9309\n",
      "Epoch 7/30\n",
      "3/3 [==============================] - 0s 6ms/step - loss: 0.8850 - val_loss: 0.8942\n",
      "Epoch 8/30\n",
      "3/3 [==============================] - 0s 11ms/step - loss: 0.8481 - val_loss: 0.8527\n",
      "Epoch 9/30\n",
      "3/3 [==============================] - 0s 12ms/step - loss: 0.8087 - val_loss: 0.8105\n",
      "Epoch 10/30\n",
      "3/3 [==============================] - 0s 12ms/step - loss: 0.7652 - val_loss: 0.7643\n",
      "Epoch 11/30\n",
      "3/3 [==============================] - 0s 7ms/step - loss: 0.7218 - val_loss: 0.7151\n",
      "Epoch 12/30\n",
      "3/3 [==============================] - 0s 11ms/step - loss: 0.6797 - val_loss: 0.6617\n",
      "Epoch 13/30\n",
      "3/3 [==============================] - 0s 13ms/step - loss: 0.6319 - val_loss: 0.6152\n",
      "Epoch 14/30\n",
      "3/3 [==============================] - 0s 11ms/step - loss: 0.5922 - val_loss: 0.5683\n",
      "Epoch 15/30\n",
      "3/3 [==============================] - 0s 13ms/step - loss: 0.5520 - val_loss: 0.5297\n",
      "Epoch 16/30\n",
      "3/3 [==============================] - 0s 10ms/step - loss: 0.5207 - val_loss: 0.4883\n",
      "Epoch 17/30\n",
      "3/3 [==============================] - 0s 11ms/step - loss: 0.4890 - val_loss: 0.4621\n",
      "Epoch 18/30\n",
      "3/3 [==============================] - 0s 11ms/step - loss: 0.4637 - val_loss: 0.4335\n",
      "Epoch 19/30\n",
      "3/3 [==============================] - 0s 12ms/step - loss: 0.4412 - val_loss: 0.4070\n",
      "Epoch 20/30\n",
      "3/3 [==============================] - 0s 7ms/step - loss: 0.4218 - val_loss: 0.3807\n",
      "Epoch 21/30\n",
      "3/3 [==============================] - 0s 11ms/step - loss: 0.4041 - val_loss: 0.3585\n",
      "Epoch 22/30\n",
      "3/3 [==============================] - 0s 11ms/step - loss: 0.3834 - val_loss: 0.3457\n",
      "Epoch 23/30\n",
      "3/3 [==============================] - 0s 11ms/step - loss: 0.3680 - val_loss: 0.3225\n",
      "Epoch 24/30\n",
      "3/3 [==============================] - 0s 13ms/step - loss: 0.3448 - val_loss: 0.2956\n",
      "Epoch 25/30\n",
      "3/3 [==============================] - 0s 11ms/step - loss: 0.3444 - val_loss: 0.2775\n",
      "Epoch 26/30\n",
      "3/3 [==============================] - 0s 12ms/step - loss: 0.3190 - val_loss: 0.2743\n",
      "Epoch 27/30\n",
      "3/3 [==============================] - 0s 11ms/step - loss: 0.3086 - val_loss: 0.2564\n",
      "Epoch 28/30\n",
      "3/3 [==============================] - 0s 12ms/step - loss: 0.2902 - val_loss: 0.2292\n",
      "Epoch 29/30\n",
      "3/3 [==============================] - 0s 12ms/step - loss: 0.2753 - val_loss: 0.2153\n",
      "Epoch 30/30\n",
      "3/3 [==============================] - 0s 6ms/step - loss: 0.2608 - val_loss: 0.2030\n"
     ]
    },
    {
     "data": {
      "text/plain": [
       "<keras.src.callbacks.History at 0x22ad5fe6210>"
      ]
     },
     "execution_count": 39,
     "metadata": {},
     "output_type": "execute_result"
    }
   ],
   "source": [
    "model.fit(x_train, y_train_enc, epochs=30, validation_data=(x_cv, y_cv_enc))"
   ]
  },
  {
   "cell_type": "code",
   "execution_count": 40,
   "id": "0b3983f7",
   "metadata": {},
   "outputs": [
    {
     "name": "stdout",
     "output_type": "stream",
     "text": [
      "WARNING:tensorflow:6 out of the last 11 calls to <function Model.make_predict_function.<locals>.predict_function at 0x0000022AD4E8CB80> triggered tf.function retracing. Tracing is expensive and the excessive number of tracings could be due to (1) creating @tf.function repeatedly in a loop, (2) passing tensors with different shapes, (3) passing Python objects instead of tensors. For (1), please define your @tf.function outside of the loop. For (2), @tf.function has reduce_retracing=True option that can avoid unnecessary retracing. For (3), please refer to https://www.tensorflow.org/guide/function#controlling_retracing and https://www.tensorflow.org/api_docs/python/tf/function for  more details.\n",
      "2/2 [==============================] - 0s 0s/step\n",
      "(38, 3)\n",
      "(38, 3)\n"
     ]
    }
   ],
   "source": [
    "y_pred = model.predict(x_test)\n",
    "print(y_pred.shape)\n",
    "print(y_test_enc.shape)"
   ]
  },
  {
   "cell_type": "code",
   "execution_count": 41,
   "id": "dc76d122",
   "metadata": {},
   "outputs": [
    {
     "data": {
      "text/plain": [
       "array([[17,  0,  0],\n",
       "       [ 0,  9,  2],\n",
       "       [ 0,  1,  9]], dtype=int64)"
      ]
     },
     "execution_count": 41,
     "metadata": {},
     "output_type": "execute_result"
    }
   ],
   "source": [
    "confusion_matrix(y_test_enc.argmax(axis=1), y_pred.argmax(axis=1))"
   ]
  },
  {
   "cell_type": "code",
   "execution_count": 42,
   "id": "2a93ed42",
   "metadata": {},
   "outputs": [
    {
     "data": {
      "text/plain": [
       "0.9210526315789473"
      ]
     },
     "execution_count": 42,
     "metadata": {},
     "output_type": "execute_result"
    }
   ],
   "source": [
    "from sklearn.metrics import accuracy_score\n",
    "\n",
    "accuracy_score(y_test_enc.argmax(axis=1), y_pred.argmax(axis=1))"
   ]
  },
  {
   "cell_type": "code",
   "execution_count": 36,
   "id": "019bc021",
   "metadata": {},
   "outputs": [],
   "source": [
    "# model.save(\"../Data Science/Models/Classification_NN.keras\")    "
   ]
  },
  {
   "cell_type": "code",
   "execution_count": null,
   "id": "2916d40a",
   "metadata": {},
   "outputs": [],
   "source": []
  }
 ],
 "metadata": {
  "kernelspec": {
   "display_name": "Python 3 (ipykernel)",
   "language": "python",
   "name": "python3"
  },
  "language_info": {
   "codemirror_mode": {
    "name": "ipython",
    "version": 3
   },
   "file_extension": ".py",
   "mimetype": "text/x-python",
   "name": "python",
   "nbconvert_exporter": "python",
   "pygments_lexer": "ipython3",
   "version": "3.11.5"
  }
 },
 "nbformat": 4,
 "nbformat_minor": 5
}
