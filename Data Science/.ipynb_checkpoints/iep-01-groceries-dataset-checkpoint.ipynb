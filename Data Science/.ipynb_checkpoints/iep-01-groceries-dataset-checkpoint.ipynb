{
 "cells": [
  {
   "cell_type": "code",
   "execution_count": 1,
   "id": "1507b77d",
   "metadata": {
    "_cell_guid": "b1076dfc-b9ad-4769-8c92-a6c4dae69d19",
    "_uuid": "8f2839f25d086af736a60e9eeb907d3b93b6e0e5",
    "execution": {
     "iopub.execute_input": "2023-11-12T13:53:42.419781Z",
     "iopub.status.busy": "2023-11-12T13:53:42.419320Z",
     "iopub.status.idle": "2023-11-12T13:53:44.911702Z",
     "shell.execute_reply": "2023-11-12T13:53:44.910411Z"
    },
    "papermill": {
     "duration": 2.506249,
     "end_time": "2023-11-12T13:53:44.917191",
     "exception": false,
     "start_time": "2023-11-12T13:53:42.410942",
     "status": "completed"
    },
    "tags": []
   },
   "outputs": [
    {
     "ename": "ModuleNotFoundError",
     "evalue": "No module named 'mlxtend'",
     "output_type": "error",
     "traceback": [
      "\u001b[1;31m---------------------------------------------------------------------------\u001b[0m",
      "\u001b[1;31mModuleNotFoundError\u001b[0m                       Traceback (most recent call last)",
      "Cell \u001b[1;32mIn[1], line 4\u001b[0m\n\u001b[0;32m      2\u001b[0m \u001b[38;5;28;01mimport\u001b[39;00m \u001b[38;5;21;01mpandas\u001b[39;00m \u001b[38;5;28;01mas\u001b[39;00m \u001b[38;5;21;01mpd\u001b[39;00m \u001b[38;5;66;03m# data processing, CSV file I/O (e.g. pd.read_csv)\u001b[39;00m\n\u001b[0;32m      3\u001b[0m \u001b[38;5;28;01mfrom\u001b[39;00m \u001b[38;5;21;01mast\u001b[39;00m \u001b[38;5;28;01mimport\u001b[39;00m literal_eval\n\u001b[1;32m----> 4\u001b[0m \u001b[38;5;28;01mfrom\u001b[39;00m \u001b[38;5;21;01mmlxtend\u001b[39;00m\u001b[38;5;21;01m.\u001b[39;00m\u001b[38;5;21;01mfrequent_patterns\u001b[39;00m \u001b[38;5;28;01mimport\u001b[39;00m apriori, association_rules\n\u001b[0;32m      5\u001b[0m \u001b[38;5;28;01mimport\u001b[39;00m \u001b[38;5;21;01mmatplotlib\u001b[39;00m\u001b[38;5;21;01m.\u001b[39;00m\u001b[38;5;21;01mpyplot\u001b[39;00m \u001b[38;5;28;01mas\u001b[39;00m \u001b[38;5;21;01mplt\u001b[39;00m             \u001b[38;5;66;03m#visualisation\u001b[39;00m\n\u001b[0;32m      6\u001b[0m \u001b[38;5;28;01mimport\u001b[39;00m \u001b[38;5;21;01mseaborn\u001b[39;00m \u001b[38;5;28;01mas\u001b[39;00m \u001b[38;5;21;01msns\u001b[39;00m\n",
      "\u001b[1;31mModuleNotFoundError\u001b[0m: No module named 'mlxtend'"
     ]
    }
   ],
   "source": [
    "import numpy as np # linear algebra\n",
    "import pandas as pd # data processing, CSV file I/O (e.g. pd.read_csv)\n",
    "from ast import literal_eval\n",
    "from mlxtend.frequent_patterns import apriori, association_rules\n",
    "import matplotlib.pyplot as plt             #visualisation\n",
    "import seaborn as sns\n",
    "\n",
    "color = (0.2, # redness\n",
    "         0.4, # greenness\n",
    "         0.2, # blueness\n",
    "         0.6 # transparency\n",
    "         ) \n",
    "\n",
    "import os\n",
    "for dirname, _, filenames in os.walk('/kaggle/input'):\n",
    "    for filename in filenames:\n",
    "        print(os.path.join(dirname, filename))"
   ]
  },
  {
   "cell_type": "markdown",
   "id": "6e6c89d9",
   "metadata": {
    "papermill": {
     "duration": 0.006161,
     "end_time": "2023-11-12T13:53:44.930355",
     "exception": false,
     "start_time": "2023-11-12T13:53:44.924194",
     "status": "completed"
    },
    "tags": []
   },
   "source": [
    "# Objective: \n",
    "1. Which products are frequently bought together?\n",
    "2. If someone buys a product, which product is he/she likely to buy next?"
   ]
  },
  {
   "cell_type": "code",
   "execution_count": null,
   "id": "8bbb4c73",
   "metadata": {
    "execution": {
     "iopub.execute_input": "2023-11-12T13:53:44.945189Z",
     "iopub.status.busy": "2023-11-12T13:53:44.944637Z",
     "iopub.status.idle": "2023-11-12T13:53:45.022885Z",
     "shell.execute_reply": "2023-11-12T13:53:45.021638Z"
    },
    "papermill": {
     "duration": 0.088529,
     "end_time": "2023-11-12T13:53:45.025398",
     "exception": false,
     "start_time": "2023-11-12T13:53:44.936869",
     "status": "completed"
    },
    "tags": []
   },
   "outputs": [],
   "source": [
    "df = pd.read_csv('/kaggle/input/groceries-dataset/Groceries_dataset.csv')\n",
    "\n",
    "df.head()"
   ]
  },
  {
   "cell_type": "markdown",
   "id": "e51148de",
   "metadata": {
    "papermill": {
     "duration": 0.006296,
     "end_time": "2023-11-12T13:53:45.038338",
     "exception": false,
     "start_time": "2023-11-12T13:53:45.032042",
     "status": "completed"
    },
    "tags": []
   },
   "source": [
    "# Data Cleaning"
   ]
  },
  {
   "cell_type": "code",
   "execution_count": null,
   "id": "abf12c83",
   "metadata": {
    "execution": {
     "iopub.execute_input": "2023-11-12T13:53:45.053891Z",
     "iopub.status.busy": "2023-11-12T13:53:45.053052Z",
     "iopub.status.idle": "2023-11-12T13:53:45.077180Z",
     "shell.execute_reply": "2023-11-12T13:53:45.076050Z"
    },
    "papermill": {
     "duration": 0.034557,
     "end_time": "2023-11-12T13:53:45.079533",
     "exception": false,
     "start_time": "2023-11-12T13:53:45.044976",
     "status": "completed"
    },
    "tags": []
   },
   "outputs": [],
   "source": [
    "dc_grocery = df.copy()\n",
    "\n",
    "# Rename Columns\n",
    "dc_grocery.rename(columns={\"Member_number\": \"Member_Number\",\"itemDescription\":\"Item\"}, inplace=True)\n",
    "\n",
    "# Check Null Values\n",
    "dc_grocery.isnull().sum()"
   ]
  },
  {
   "cell_type": "code",
   "execution_count": null,
   "id": "0741c969",
   "metadata": {
    "execution": {
     "iopub.execute_input": "2023-11-12T13:53:45.095069Z",
     "iopub.status.busy": "2023-11-12T13:53:45.094384Z",
     "iopub.status.idle": "2023-11-12T13:53:45.137148Z",
     "shell.execute_reply": "2023-11-12T13:53:45.135565Z"
    },
    "papermill": {
     "duration": 0.053819,
     "end_time": "2023-11-12T13:53:45.139986",
     "exception": false,
     "start_time": "2023-11-12T13:53:45.086167",
     "status": "completed"
    },
    "tags": []
   },
   "outputs": [],
   "source": [
    "print(\"Rows before remove duplicates \" + str(len(dc_grocery)))\n",
    "print(\"Rows after remove duplicates \" + str(len(dc_grocery.drop_duplicates())))\n",
    "dc_grocery = dc_grocery.drop_duplicates()"
   ]
  },
  {
   "cell_type": "code",
   "execution_count": null,
   "id": "f7d6525d",
   "metadata": {
    "execution": {
     "iopub.execute_input": "2023-11-12T13:53:45.156733Z",
     "iopub.status.busy": "2023-11-12T13:53:45.155973Z",
     "iopub.status.idle": "2023-11-12T13:53:45.186509Z",
     "shell.execute_reply": "2023-11-12T13:53:45.185459Z"
    },
    "papermill": {
     "duration": 0.041549,
     "end_time": "2023-11-12T13:53:45.188977",
     "exception": false,
     "start_time": "2023-11-12T13:53:45.147428",
     "status": "completed"
    },
    "tags": []
   },
   "outputs": [],
   "source": [
    "# Object Types\n",
    "dc_grocery.info()"
   ]
  },
  {
   "cell_type": "markdown",
   "id": "3b326f5b",
   "metadata": {
    "papermill": {
     "duration": 0.0068,
     "end_time": "2023-11-12T13:53:45.203120",
     "exception": false,
     "start_time": "2023-11-12T13:53:45.196320",
     "status": "completed"
    },
    "tags": []
   },
   "source": [
    "# EDA"
   ]
  },
  {
   "cell_type": "code",
   "execution_count": null,
   "id": "6360ee86",
   "metadata": {
    "execution": {
     "iopub.execute_input": "2023-11-12T13:53:45.219375Z",
     "iopub.status.busy": "2023-11-12T13:53:45.218621Z",
     "iopub.status.idle": "2023-11-12T13:53:45.224568Z",
     "shell.execute_reply": "2023-11-12T13:53:45.223760Z"
    },
    "papermill": {
     "duration": 0.016368,
     "end_time": "2023-11-12T13:53:45.226638",
     "exception": false,
     "start_time": "2023-11-12T13:53:45.210270",
     "status": "completed"
    },
    "tags": []
   },
   "outputs": [],
   "source": [
    "def set_custom_palette(series, max_color = 'blue', other_color = 'lightgrey'):\n",
    "    max_val = series.max()\n",
    "    pal = []\n",
    "    \n",
    "    for item in series:\n",
    "        if item == max_val:\n",
    "            pal.append(max_color)\n",
    "        else:\n",
    "            pal.append(other_color)\n",
    "    return pal"
   ]
  },
  {
   "cell_type": "code",
   "execution_count": null,
   "id": "4e30345a",
   "metadata": {
    "execution": {
     "iopub.execute_input": "2023-11-12T13:53:45.242802Z",
     "iopub.status.busy": "2023-11-12T13:53:45.242058Z",
     "iopub.status.idle": "2023-11-12T13:53:45.894466Z",
     "shell.execute_reply": "2023-11-12T13:53:45.893441Z"
    },
    "papermill": {
     "duration": 0.663298,
     "end_time": "2023-11-12T13:53:45.896980",
     "exception": false,
     "start_time": "2023-11-12T13:53:45.233682",
     "status": "completed"
    },
    "tags": []
   },
   "outputs": [],
   "source": [
    "y = dc_grocery.Item.value_counts().nlargest(10).tolist()\n",
    "x = dc_grocery.Item.value_counts().nlargest(10).keys().tolist()\n",
    "\n",
    "plt.rcParams['figure.figsize'] = (10, 5)\n",
    "\n",
    "fig, ax = plt.subplots()\n",
    "\n",
    "sns.barplot(x=x, y=y, ax=ax)\n",
    "\n",
    "ax.bar_label(ax.containers[0], labels=y, padding=3)\n",
    "ax.margins(y=0.1)\n",
    "\n",
    "plt.title(\"Most items put in groceries\")\n",
    "plt.ylabel('Number of items')\n",
    "plt.xlabel('Items')\n",
    "plt.xticks(rotation='vertical')\n",
    "\n",
    "fig.tight_layout()"
   ]
  },
  {
   "cell_type": "code",
   "execution_count": null,
   "id": "500ea413",
   "metadata": {
    "execution": {
     "iopub.execute_input": "2023-11-12T13:53:45.915153Z",
     "iopub.status.busy": "2023-11-12T13:53:45.914091Z",
     "iopub.status.idle": "2023-11-12T13:53:45.935117Z",
     "shell.execute_reply": "2023-11-12T13:53:45.933929Z"
    },
    "papermill": {
     "duration": 0.032767,
     "end_time": "2023-11-12T13:53:45.937675",
     "exception": false,
     "start_time": "2023-11-12T13:53:45.904908",
     "status": "completed"
    },
    "tags": []
   },
   "outputs": [],
   "source": [
    "top_5_sum = dc_grocery.Item.value_counts().nlargest(5).sum()\n",
    "sum_all = dc_grocery.Item.value_counts().sum()\n",
    "summ = top_5_sum/sum_all\n",
    "summ"
   ]
  },
  {
   "cell_type": "markdown",
   "id": "5541d81e",
   "metadata": {
    "papermill": {
     "duration": 0.007596,
     "end_time": "2023-11-12T13:53:45.953280",
     "exception": false,
     "start_time": "2023-11-12T13:53:45.945684",
     "status": "completed"
    },
    "tags": []
   },
   "source": [
    "# Data Analysis"
   ]
  },
  {
   "cell_type": "code",
   "execution_count": null,
   "id": "24a93ecb",
   "metadata": {
    "execution": {
     "iopub.execute_input": "2023-11-12T13:53:45.970866Z",
     "iopub.status.busy": "2023-11-12T13:53:45.970421Z",
     "iopub.status.idle": "2023-11-12T13:53:46.063363Z",
     "shell.execute_reply": "2023-11-12T13:53:46.061971Z"
    },
    "papermill": {
     "duration": 0.105877,
     "end_time": "2023-11-12T13:53:46.067110",
     "exception": false,
     "start_time": "2023-11-12T13:53:45.961233",
     "status": "completed"
    },
    "tags": []
   },
   "outputs": [],
   "source": [
    "basket = (dc_grocery.groupby(['Member_Number','Item'])['Date'].count().unstack().reset_index().fillna(0).set_index('Member_Number'))\n",
    "basket.head()"
   ]
  },
  {
   "cell_type": "code",
   "execution_count": null,
   "id": "0d1ea676",
   "metadata": {
    "execution": {
     "iopub.execute_input": "2023-11-12T13:53:46.089077Z",
     "iopub.status.busy": "2023-11-12T13:53:46.088038Z",
     "iopub.status.idle": "2023-11-12T13:53:46.716833Z",
     "shell.execute_reply": "2023-11-12T13:53:46.715553Z"
    },
    "papermill": {
     "duration": 0.642515,
     "end_time": "2023-11-12T13:53:46.719567",
     "exception": false,
     "start_time": "2023-11-12T13:53:46.077052",
     "status": "completed"
    },
    "tags": []
   },
   "outputs": [],
   "source": [
    "def encode_units(x):\n",
    "    if x < 1:\n",
    "        return 0\n",
    "    if x >= 1:\n",
    "        return 1\n",
    "\n",
    "\n",
    "basket = basket.applymap(encode_units)\n",
    "basket.head(10)"
   ]
  },
  {
   "cell_type": "code",
   "execution_count": null,
   "id": "68c3eedf",
   "metadata": {
    "execution": {
     "iopub.execute_input": "2023-11-12T13:53:46.739567Z",
     "iopub.status.busy": "2023-11-12T13:53:46.739140Z",
     "iopub.status.idle": "2023-11-12T13:53:46.799929Z",
     "shell.execute_reply": "2023-11-12T13:53:46.798557Z"
    },
    "papermill": {
     "duration": 0.074509,
     "end_time": "2023-11-12T13:53:46.803188",
     "exception": false,
     "start_time": "2023-11-12T13:53:46.728679",
     "status": "completed"
    },
    "tags": []
   },
   "outputs": [],
   "source": [
    "#Run apriori algorithm\n",
    "df_trans = pd.DataFrame(basket)\n",
    "\n",
    "frequent_itemsets = apriori(df_trans, min_support=0.1, use_colnames=True).sort_values(by=\"support\", ascending=False)\n",
    "frequent_itemsets"
   ]
  },
  {
   "cell_type": "code",
   "execution_count": null,
   "id": "202e0334",
   "metadata": {
    "execution": {
     "iopub.execute_input": "2023-11-12T13:53:46.824910Z",
     "iopub.status.busy": "2023-11-12T13:53:46.824076Z",
     "iopub.status.idle": "2023-11-12T13:53:46.851710Z",
     "shell.execute_reply": "2023-11-12T13:53:46.850856Z"
    },
    "papermill": {
     "duration": 0.04098,
     "end_time": "2023-11-12T13:53:46.853941",
     "exception": false,
     "start_time": "2023-11-12T13:53:46.812961",
     "status": "completed"
    },
    "tags": []
   },
   "outputs": [],
   "source": [
    "rules = association_rules(frequent_itemsets, metric=\"lift\", min_threshold=1)\n",
    "rules = rules[(rules['confidence'] > 0.5)]\n",
    "\n",
    "rules.sort_values(['confidence'],ascending=False).reset_index(drop=True)"
   ]
  },
  {
   "cell_type": "code",
   "execution_count": null,
   "id": "07a180cf",
   "metadata": {
    "execution": {
     "iopub.execute_input": "2023-11-12T13:53:46.875796Z",
     "iopub.status.busy": "2023-11-12T13:53:46.875379Z",
     "iopub.status.idle": "2023-11-12T13:53:46.884111Z",
     "shell.execute_reply": "2023-11-12T13:53:46.882998Z"
    },
    "papermill": {
     "duration": 0.022933,
     "end_time": "2023-11-12T13:53:46.886828",
     "exception": false,
     "start_time": "2023-11-12T13:53:46.863895",
     "status": "completed"
    },
    "tags": []
   },
   "outputs": [],
   "source": [
    "def frequently_bought_together(item):\n",
    "    \n",
    "    # df of item passed\n",
    "    item_df = basket.loc[basket[item]==1]\n",
    "    \n",
    "    # Applying apriori algorithm on item df\n",
    "    frequent_itemsets = apriori(item_df, min_support=0.1, use_colnames=True)\n",
    "    \n",
    "    # Storing association rules\n",
    "    rules = association_rules(frequent_itemsets, metric=\"lift\", min_threshold=1)\n",
    "    rules[\"antecedent_len\"] = rules[\"antecedents\"].apply(lambda x: len(x))\n",
    "    rules[\"consequents_len\"] = rules[\"consequents\"].apply(lambda x: len(x))\n",
    "\n",
    "    rules = rules[(rules['antecedent_len'] == 1) & (rules['consequents_len'] == 1) & (rules['lift'] > 1)]\n",
    "    \n",
    "    # Sorting on lift and support\n",
    "    rules.sort_values(['confidence'],ascending=False).reset_index(drop=True)\n",
    "    \n",
    "    print('Items frequently bought together with {0}'.format(item))\n",
    "    \n",
    "    bt = rules['consequents'].drop_duplicates()\n",
    "    \n",
    "    # Returning top 6 items with highest lift and support\n",
    "    return bt"
   ]
  },
  {
   "cell_type": "code",
   "execution_count": null,
   "id": "4858226a",
   "metadata": {
    "execution": {
     "iopub.execute_input": "2023-11-12T13:53:46.909002Z",
     "iopub.status.busy": "2023-11-12T13:53:46.908273Z",
     "iopub.status.idle": "2023-11-12T13:53:46.948141Z",
     "shell.execute_reply": "2023-11-12T13:53:46.946777Z"
    },
    "papermill": {
     "duration": 0.054031,
     "end_time": "2023-11-12T13:53:46.951004",
     "exception": false,
     "start_time": "2023-11-12T13:53:46.896973",
     "status": "completed"
    },
    "tags": []
   },
   "outputs": [],
   "source": [
    "frequently_bought_together('yogurt')"
   ]
  }
 ],
 "metadata": {
  "kernelspec": {
   "display_name": "Python 3 (ipykernel)",
   "language": "python",
   "name": "python3"
  },
  "language_info": {
   "codemirror_mode": {
    "name": "ipython",
    "version": 3
   },
   "file_extension": ".py",
   "mimetype": "text/x-python",
   "name": "python",
   "nbconvert_exporter": "python",
   "pygments_lexer": "ipython3",
   "version": "3.11.5"
  },
  "papermill": {
   "default_parameters": {},
   "duration": 9.339499,
   "end_time": "2023-11-12T13:53:47.582447",
   "environment_variables": {},
   "exception": null,
   "input_path": "__notebook__.ipynb",
   "output_path": "__notebook__.ipynb",
   "parameters": {},
   "start_time": "2023-11-12T13:53:38.242948",
   "version": "2.4.0"
  }
 },
 "nbformat": 4,
 "nbformat_minor": 5
}
