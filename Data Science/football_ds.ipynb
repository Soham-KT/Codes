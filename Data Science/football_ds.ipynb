{
 "cells": [
  {
   "cell_type": "code",
   "execution_count": 2,
   "id": "9d0f9bd7",
   "metadata": {},
   "outputs": [
    {
     "ename": "ModuleNotFoundError",
     "evalue": "No module named 'SQLite'",
     "output_type": "error",
     "traceback": [
      "\u001b[1;31m---------------------------------------------------------------------------\u001b[0m",
      "\u001b[1;31mModuleNotFoundError\u001b[0m                       Traceback (most recent call last)",
      "Cell \u001b[1;32mIn[2], line 4\u001b[0m\n\u001b[0;32m      2\u001b[0m \u001b[38;5;28;01mimport\u001b[39;00m \u001b[38;5;21;01mnumpy\u001b[39;00m \u001b[38;5;28;01mas\u001b[39;00m \u001b[38;5;21;01mnp\u001b[39;00m\n\u001b[0;32m      3\u001b[0m \u001b[38;5;28;01mimport\u001b[39;00m \u001b[38;5;21;01mmatplotlib\u001b[39;00m \u001b[38;5;28;01mas\u001b[39;00m \u001b[38;5;21;01mplt\u001b[39;00m\n\u001b[1;32m----> 4\u001b[0m \u001b[38;5;28;01mimport\u001b[39;00m \u001b[38;5;21;01mSQLite\u001b[39;00m \u001b[38;5;28;01mas\u001b[39;00m \u001b[38;5;21;01msql\u001b[39;00m\n\u001b[0;32m      5\u001b[0m get_ipython()\u001b[38;5;241m.\u001b[39mrun_line_magic(\u001b[38;5;124m'\u001b[39m\u001b[38;5;124mmatplotlib\u001b[39m\u001b[38;5;124m'\u001b[39m, \u001b[38;5;124m'\u001b[39m\u001b[38;5;124minline\u001b[39m\u001b[38;5;124m'\u001b[39m)\n\u001b[0;32m      7\u001b[0m data \u001b[38;5;241m=\u001b[39m pd\u001b[38;5;241m.\u001b[39mread_csv(\u001b[38;5;124m\"\u001b[39m\u001b[38;5;124m../Data Science/Kaggle_Data/appearances.csv\u001b[39m\u001b[38;5;124m\"\u001b[39m)\n",
      "\u001b[1;31mModuleNotFoundError\u001b[0m: No module named 'SQLite'"
     ]
    }
   ],
   "source": [
    "import pandas as pd\n",
    "import numpy as np\n",
    "import matplotlib as plt\n",
    "import SQLite as sql\n",
    "%matplotlib inline\n",
    "\n",
    "data = pd.read_csv(\"../Data Science/Kaggle_Data/appearances.csv\")"
   ]
  },
  {
   "cell_type": "code",
   "execution_count": null,
   "id": "13579a4d",
   "metadata": {},
   "outputs": [],
   "source": [
    "data.head(10)"
   ]
  },
  {
   "cell_type": "code",
   "execution_count": null,
   "id": "97c264d3",
   "metadata": {},
   "outputs": [],
   "source": [
    "data.describe()"
   ]
  },
  {
   "cell_type": "code",
   "execution_count": null,
   "id": "ed944541",
   "metadata": {},
   "outputs": [],
   "source": [
    "data.loc[(data[\"red_cards\"] == 1) & (data[\"yellow_cards\"] == 1)].head(10)"
   ]
  },
  {
   "cell_type": "code",
   "execution_count": null,
   "id": "05ac2548",
   "metadata": {},
   "outputs": [],
   "source": [
    "data.apply(lambda x: sum(x.isnull()), axis=0)"
   ]
  },
  {
   "cell_type": "code",
   "execution_count": null,
   "id": "b53e7e6e",
   "metadata": {},
   "outputs": [],
   "source": [
    "data[\"yellow_cards\"].hist(bins=50)"
   ]
  },
  {
   "cell_type": "code",
   "execution_count": null,
   "id": "12bda4c0",
   "metadata": {},
   "outputs": [],
   "source": [
    "data.loc[data[\"yellow_cards\"] == 2]"
   ]
  },
  {
   "cell_type": "code",
   "execution_count": null,
   "id": "c2866277",
   "metadata": {},
   "outputs": [],
   "source": [
    "data_club = pd.read_csv(\"../Data Science/Kaggle_Data/clubs.csv\")"
   ]
  },
  {
   "cell_type": "code",
   "execution_count": null,
   "id": "a8163115",
   "metadata": {},
   "outputs": [],
   "source": [
    "data_club.describe()"
   ]
  },
  {
   "cell_type": "code",
   "execution_count": null,
   "id": "993679eb",
   "metadata": {},
   "outputs": [],
   "source": [
    "data_club.head(10)"
   ]
  },
  {
   "cell_type": "code",
   "execution_count": null,
   "id": "52366b49",
   "metadata": {},
   "outputs": [],
   "source": [
    "data_club.loc[data_club[\"name\"] == \"FC Barcelona\"]"
   ]
  },
  {
   "cell_type": "code",
   "execution_count": null,
   "id": "562128e9",
   "metadata": {},
   "outputs": [],
   "source": [
    "data_club.loc[data_club[\"name\"] == \"Real Madrid\"]"
   ]
  },
  {
   "cell_type": "code",
   "execution_count": null,
   "id": "a720de73",
   "metadata": {},
   "outputs": [],
   "source": [
    "data.describe()"
   ]
  },
  {
   "cell_type": "code",
   "execution_count": null,
   "id": "5d431287",
   "metadata": {},
   "outputs": [],
   "source": [
    "data_club.describe()"
   ]
  },
  {
   "cell_type": "code",
   "execution_count": null,
   "id": "5270225b",
   "metadata": {},
   "outputs": [],
   "source": [
    "data.head()"
   ]
  },
  {
   "cell_type": "code",
   "execution_count": null,
   "id": "5f11a720",
   "metadata": {},
   "outputs": [],
   "source": [
    "data_club.head()"
   ]
  },
  {
   "cell_type": "code",
   "execution_count": null,
   "id": "eb996e88",
   "metadata": {},
   "outputs": [],
   "source": [
    "data.describe()"
   ]
  },
  {
   "cell_type": "code",
   "execution_count": null,
   "id": "6e9918ea",
   "metadata": {},
   "outputs": [],
   "source": [
    "data[\"player_id\"].min()"
   ]
  },
  {
   "cell_type": "code",
   "execution_count": null,
   "id": "07cea046",
   "metadata": {},
   "outputs": [],
   "source": [
    "print(data.columns)"
   ]
  },
  {
   "cell_type": "code",
   "execution_count": null,
   "id": "98dbe212",
   "metadata": {},
   "outputs": [],
   "source": [
    "data[\"minutes_played\"].hist(bins=50)"
   ]
  },
  {
   "cell_type": "code",
   "execution_count": null,
   "id": "3d44dc10",
   "metadata": {},
   "outputs": [],
   "source": [
    "min_series_array = pd.Series(data[\"minutes_played\"].head(100)).to_numpy()\n",
    "print(min_series_array)"
   ]
  },
  {
   "cell_type": "code",
   "execution_count": null,
   "id": "3c7ab723",
   "metadata": {},
   "outputs": [],
   "source": []
  }
 ],
 "metadata": {
  "kernelspec": {
   "display_name": "Python 3 (ipykernel)",
   "language": "python",
   "name": "python3"
  },
  "language_info": {
   "codemirror_mode": {
    "name": "ipython",
    "version": 3
   },
   "file_extension": ".py",
   "mimetype": "text/x-python",
   "name": "python",
   "nbconvert_exporter": "python",
   "pygments_lexer": "ipython3",
   "version": "3.11.5"
  }
 },
 "nbformat": 4,
 "nbformat_minor": 5
}
